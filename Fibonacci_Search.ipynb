{
 "cells": [
  {
   "cell_type": "code",
   "execution_count": 2,
   "id": "e54dc377",
   "metadata": {},
   "outputs": [
    {
     "name": "stdout",
     "output_type": "stream",
     "text": [
      "Minimum n: 6\n"
     ]
    }
   ],
   "source": [
    "def fibonacci_iter(n):\n",
    "    if n == 0: return 0\n",
    "    if n == 1: return 1\n",
    "    a, b = 0, 1\n",
    "    for _ in range(2, n+1):\n",
    "        a, b = b, a + b\n",
    "    return b\n",
    "\n",
    "def get_minimum_n(accuracy):\n",
    "    target = 100 / (2 * accuracy)\n",
    "    n = 1\n",
    "    while True:\n",
    "        f_n = fibonacci_iter(n)\n",
    "       # print(f_n,\" \")\n",
    "        if f_n >= target:\n",
    "            # print(f_n,n)\n",
    "            return n-1\n",
    "        n += 1\n",
    "accuracy = 5\n",
    "n = get_minimum_n(accuracy)\n",
    "print(\"Minimum n:\", n)"
   ]
  },
  {
   "cell_type": "code",
   "execution_count": 3,
   "id": "26a02e07",
   "metadata": {},
   "outputs": [
    {
     "data": {
      "text/plain": [
       "(2.5552223529411764, 2.9547152941176473, 2.7549688235294116)"
      ]
     },
     "execution_count": 3,
     "metadata": {},
     "output_type": "execute_result"
    }
   ],
   "source": [
    "def eval_fun(x):\n",
    "  # return x*(x-8.86)\n",
    "  return x*(x-5.68)\n",
    "def fibonacci_search(a,b,eval_fun,accuracy):\n",
    "  n=get_minimum_n(accuracy)\n",
    "  L0 = abs(b-a)\n",
    "  L2_star = (fibonacci_iter(n-2)/fibonacci_iter(n)) * L0\n",
    "  x1 = a + L2_star\n",
    "  x2= b - L2_star\n",
    "  f_x1 = eval_fun(x1)\n",
    "  f_x2 = eval_fun(x2)\n",
    "  a_dash,b_dash = a,b\n",
    "  if(f_x1>f_x2):\n",
    "    a_dash=x1\n",
    "    b_dash=b\n",
    "  elif(f_x1<f_x2):\n",
    "    a_dash=a\n",
    "    b_dash=x2\n",
    "  # i=3  \n",
    "  for j in range(3,n+1):\n",
    "    # print(j)\n",
    "    Li_star= (fibonacci_iter(n-j)/fibonacci_iter(n)) * L0\n",
    "    xi= a_dash + Li_star\n",
    "    xi1= b_dash - Li_star\n",
    "    # print(xi>xi1)\n",
    "    f_xi=eval_fun(xi)\n",
    "    f_xi1=eval_fun(xi1)\n",
    "    if(f_xi>f_xi1):\n",
    "      a_dash=xi\n",
    "    elif(f_xi<f_xi1):\n",
    "      b_dash=xi1\n",
    "    # i+=1\n",
    "  # print(n,j)  \n",
    "  return a_dash,b_dash,(a_dash+b_dash)/2\n",
    "fibonacci_search(-1.8392,4.95218,eval_fun,1)  "
   ]
  }
 ],
 "metadata": {
  "kernelspec": {
   "display_name": "Python 3",
   "language": "python",
   "name": "python3"
  },
  "language_info": {
   "codemirror_mode": {
    "name": "ipython",
    "version": 3
   },
   "file_extension": ".py",
   "mimetype": "text/x-python",
   "name": "python",
   "nbconvert_exporter": "python",
   "pygments_lexer": "ipython3",
   "version": "3.13.2"
  }
 },
 "nbformat": 4,
 "nbformat_minor": 5
}
