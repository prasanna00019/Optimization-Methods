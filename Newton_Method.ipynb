{
 "cells": [
  {
   "cell_type": "code",
   "execution_count": 1,
   "id": "3ec6d11e",
   "metadata": {},
   "outputs": [
    {
     "name": "stdout",
     "output_type": "stream",
     "text": [
      "Converged at iteration 3\n",
      "Final point: [np.float64(1.0000000000004556), np.float64(0.9999999983929453)]\n"
     ]
    }
   ],
   "source": [
    "from sympy import symbols, diff, N, sin, cos\n",
    "import numpy as np\n",
    "\n",
    "def newton_method(eval_fun,epsilon,lamda):\n",
    "   n_variables = len(lamda)\n",
    "   vars_list = symbols(f'x1:{n_variables + 1}')\n",
    "   Hessian= [[diff(eval_fun, var1, var2) for var2 in vars_list] for var1 in vars_list]\n",
    "   first_derivative = [diff(eval_fun, var) for var in vars_list]\n",
    "  #  print(Hessian)\n",
    "   temp_pt = [float(v) for v in lamda]\n",
    "   max_iters = 1000\n",
    "   iter_count = 0\n",
    "   while(iter_count < max_iters):\n",
    "     first_derivative_eval = [g.subs(dict(zip(vars_list, temp_pt))).evalf() for g in first_derivative]\n",
    "     Hessian_eval = [[g.subs(dict(zip(vars_list, temp_pt))).evalf() for g in row] for row in Hessian]\n",
    "\n",
    "     Hessian_np = np.array(Hessian_eval, dtype=float)\n",
    "     grad_np = np.array([float(val) for val in first_derivative_eval], dtype=float)\n",
    "\n",
    "     try:\n",
    "         Hessian_inv_np = np.linalg.inv(Hessian_np)\n",
    "     except np.linalg.LinAlgError:\n",
    "         print(\"Stopped: Hessian is singular (not invertible).\")\n",
    "         return temp_pt\n",
    "\n",
    "     delta = np.dot(Hessian_inv_np, -grad_np)\n",
    "     X_i1 = [temp_pt[i] + delta[i] for i in range(n_variables)]\n",
    "\n",
    "     if np.linalg.norm(grad_np) < epsilon:\n",
    "       print(f\"Converged at iteration {iter_count}\")\n",
    "       return X_i1\n",
    "\n",
    "     temp_pt = X_i1\n",
    "     iter_count += 1\n",
    "\n",
    "   print(\"Stopped: Maximum iterations reached\")\n",
    "   return temp_pt\n",
    "\n",
    "x1, x2 = symbols('x1 x2')\n",
    "# f = x1 - x2 + 2*x1**2 + 2*x1*x2 + x2**2\n",
    "a, b = 1, 100\n",
    "f = (a - x1)**2 + b * (x2 - x1**2)**2\n",
    "# start_pt = [1, -1]\n",
    "start_pt = [-850, 3900]\n",
    "result = newton_method(f, 0.01, start_pt)\n",
    "print(\"Final point:\", result)"
   ]
  }
 ],
 "metadata": {
  "kernelspec": {
   "display_name": "Python 3",
   "language": "python",
   "name": "python3"
  },
  "language_info": {
   "codemirror_mode": {
    "name": "ipython",
    "version": 3
   },
   "file_extension": ".py",
   "mimetype": "text/x-python",
   "name": "python",
   "nbconvert_exporter": "python",
   "pygments_lexer": "ipython3",
   "version": "3.13.2"
  }
 },
 "nbformat": 4,
 "nbformat_minor": 5
}
