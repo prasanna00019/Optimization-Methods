{
 "cells": [
  {
   "cell_type": "code",
   "execution_count": null,
   "id": "6a4a479b",
   "metadata": {},
   "outputs": [
    {
     "name": "stdout",
     "output_type": "stream",
     "text": [
      "Iter 0: lamda = 1.58795242515686, f'(lamda) = 4289.25879809162\n",
      "Iter 1: lamda = 1.34410602974844, f'(lamda) = 1447.72852734198\n",
      "Iter 2: lamda = 1.13979152490199, f'(lamda) = 486.785773305400\n",
      "Iter 3: lamda = 0.972394423445715, f'(lamda) = 162.018134622397\n",
      "Iter 4: lamda = 0.842632774092036, f'(lamda) = 52.5561936297478\n",
      "Iter 5: lamda = 0.754676344397930, f'(lamda) = 15.9832403457236\n",
      "Iter 6: lamda = 0.711607964320187, f'(lamda) = 4.10221257256271\n",
      "Iter 7: lamda = 0.701707174441463, f'(lamda) = 0.654281433343229\n",
      "Iter 8: lamda = 0.701233529532887, f'(lamda) = 0.0285913395474680\n",
      "Iter 9: lamda = 0.701232486546865, f'(lamda) = 0.0000626828144945080\n",
      "Iter 10: lamda = 0.701232486546721, f'(lamda) = 8.65973959207622E-12\n",
      "Iter 11: lamda = 0.701232486546729, f'(lamda) = -4.44089209850063E-13\n",
      "\n",
      "======================================================================\n",
      "CONVERGED: lamda* = 0.701232486546729\n"
     ]
    },
    {
     "data": {
      "text/plain": [
       "[0.701232486546729]"
      ]
     },
     "execution_count": 6,
     "metadata": {},
     "output_type": "execute_result"
    }
   ],
   "source": [
    "from sympy import symbols, diff, N, atan\n",
    "\n",
    "def eval_at_point(f, vars_list, point):\n",
    "    subs_dict = dict(zip(vars_list, point))\n",
    "    result = f.subs(subs_dict).evalf()  \n",
    "    return result\n",
    "def quasi_newton_method(eval_fun,lamda,step_size,epsilon):\n",
    "   n_variables = len(lamda)\n",
    "   all_symbols = sorted(list(eval_fun.free_symbols), key=str)\n",
    "   if len(all_symbols) != n_variables:\n",
    "        raise ValueError(\"Number of free symbols in eval_fun must match len(lamda)\")\n",
    "   vars_list = all_symbols\n",
    "   max_iters = 1000\n",
    "   iteration = 0\n",
    "   prev_lamda = lamda.copy()\n",
    "#    first_derivative = [diff(eval_fun, var) for var in vars_list]\n",
    "   while(iteration <= max_iters):\n",
    "     fi_eval = eval_at_point(eval_fun,vars_list,prev_lamda)\n",
    "     fi_plus_eval = eval_at_point(eval_fun,vars_list,[prev_lamda[i] + step_size for i in range(len(lamda))])\n",
    "     fi_minus_eval = eval_at_point(eval_fun,vars_list,[prev_lamda[i] - step_size for i in range(len(lamda))])\n",
    "     lamda_i1 = [prev_lamda[i] - step_size *( (fi_plus_eval - fi_minus_eval)/(2* (fi_plus_eval - 2 * fi_eval + fi_minus_eval))) for i in range(len(lamda))]\n",
    "     eval_derivative_lamda_i1 = (fi_plus_eval-fi_minus_eval)/(2*step_size)\n",
    "     print(f\"Iter {iteration}: lamda = {lamda_i1[0]}, f'(lamda) = {eval_derivative_lamda_i1}\")\n",
    "     if abs(eval_derivative_lamda_i1) <= epsilon:\n",
    "      print(\"\\n\" + \"=\"*70)\n",
    "      print(f\"CONVERGED: lamda* = {lamda_i1[0]}\")\n",
    "      break\n",
    "     else:\n",
    "      prev_lamda = lamda_i1.copy()\n",
    "     iteration+=1\n",
    "   return lamda_i1  \n",
    "x = symbols('x')\n",
    "f = x**4 - 5 * x**2.56 + 9 * x**7.55 - 10 * x**3.45 + 10 * x**4\n",
    "lamda = [1.8765]\n",
    "epsilon = 1e-12 \n",
    "quasi_newton_method(f,lamda,0.001,epsilon)"
   ]
  },
  {
   "cell_type": "code",
   "execution_count": null,
   "id": "51083663",
   "metadata": {},
   "outputs": [
    {
     "name": "stdout",
     "output_type": "stream",
     "text": [
      "Iter 0: lamda = 41.6666626310228, f'(lamda) = 437500447874.023\n",
      "Iter 1: lamda = 34.7222130814413, f'(lamda) = 146518032549.744\n",
      "Iter 2: lamda = 28.9351696818492, f'(lamda) = 49068600949.9817\n",
      "Iter 3: lamda = 24.1126306772720, f'(lamda) = 16432979883.6441\n",
      "Iter 4: lamda = 20.0938444840036, f'(lamda) = 5503374202.10266\n",
      "Iter 5: lamda = 16.7448514684829, f'(lamda) = 1843070121.77515\n",
      "Iter 6: lamda = 13.9540187827748, f'(lamda) = 617241033.610702\n",
      "Iter 7: lamda = 11.6283197826378, f'(lamda) = 206713010.374576\n",
      "Iter 8: lamda = 9.69023410899388, f'(lamda) = 69227836.5720883\n",
      "Iter 9: lamda = 8.07516546340540, f'(lamda) = 23184252.4863407\n",
      "Iter 10: lamda = 6.72929184285875, f'(lamda) = 7764318.58880538\n",
      "Iter 11: lamda = 5.60777788174037, f'(lamda) = 2600206.12329128\n",
      "Iter 12: lamda = 4.67329225861223, f'(lamda) = 870757.848489506\n",
      "Iter 13: lamda = 3.89478542683348, f'(lamda) = 291575.586486491\n",
      "Iter 14: lamda = 3.24649558948867, f'(lamda) = 97615.9085776744\n",
      "Iter 15: lamda = 2.70716583418578, f'(lamda) = 32665.9521997453\n",
      "Iter 16: lamda = 2.25947582773731, f'(lamda) = 10920.0573821527\n",
      "Iter 17: lamda = 1.88972197622041, f'(lamda) = 3642.00828542323\n",
      "Iter 18: lamda = 1.58782283847623, f'(lamda) = 1208.20941577927\n",
      "Iter 19: lamda = 1.34775677387407, f'(lamda) = 395.905309573273\n",
      "Iter 20: lamda = 1.16836243499609, f'(lamda) = 125.983606483224\n",
      "Iter 21: lamda = 1.05305253426291, f'(lamda) = 37.2532753512420\n",
      "Iter 22: lamda = 1.00189853541415, f'(lamda) = 9.03529755135146\n",
      "Iter 23: lamda = 0.992292416632285, f'(lamda) = 1.24463589539037\n",
      "Iter 24: lamda = 0.991982625943099, f'(lamda) = 0.0377214749609500\n",
      "Iter 25: lamda = 0.991982312369250, f'(lamda) = 0.0000381048326225653\n",
      "Iter 26: lamda = 0.991982312369638, f'(lamda) = -4.70734562441066E-11\n",
      "\n",
      "======================================================================\n",
      "CONVERGED: lamda* = 0.991982312369638\n",
      "Final point: [0.991982312369638]\n"
     ]
    }
   ],
   "source": [
    "x = symbols('x')\n",
    "f = x**4 - 5*x**2 + 4*x**7  - 7 * x**3\n",
    "\n",
    "lamda = [50.0]\n",
    "epsilon = 0.00001\n",
    "step_size = 0.001  \n",
    "result = quasi_newton_method(f, lamda, step_size, epsilon)\n",
    "print(\"Final point:\", result)"
   ]
  },
  {
   "cell_type": "code",
   "execution_count": null,
   "id": "afea6e1b",
   "metadata": {},
   "outputs": [
    {
     "name": "stdout",
     "output_type": "stream",
     "text": [
      "Iter 0: lamda = 1.19782481934425, f'(lamda) = 414.187614580442\n",
      "Iter 1: lamda = 1.04434230915420, f'(lamda) = 131.227079981358\n",
      "Iter 2: lamda = 0.939215387924023, f'(lamda) = 40.2669262585953\n",
      "Iter 3: lamda = 0.889357350426828, f'(lamda) = 10.1654904947011\n",
      "Iter 4: lamda = 0.878812264169738, f'(lamda) = 1.52796548193646\n",
      "Iter 5: lamda = 0.878384569789232, f'(lamda) = 0.0573580843927779\n",
      "Iter 6: lamda = 0.878383889203305, f'(lamda) = 0.0000909833568485396\n",
      "Iter 7: lamda = 0.878383889203627, f'(lamda) = -4.30766533554561E-11\n",
      "\n",
      "======================================================================\n",
      "CONVERGED: lamda* = 0.878383889203627\n",
      "Final point: [0.878383889203627]\n"
     ]
    }
   ],
   "source": [
    "from sympy import sin, cos\n",
    "f = x**4 - 5*x**2 + 9*x**7 - 10*x**3 + sin(x**3) + cos(x**4)\n",
    "lamda = [1.4]\n",
    "epsilon = 0.000001\n",
    "step_size = 0.001  \n",
    "result = quasi_newton_method(f, lamda, step_size, epsilon)\n",
    "print(\"Final point:\", result)"
   ]
  },
  {
   "cell_type": "code",
   "execution_count": null,
   "id": "cc0d3c3b",
   "metadata": {},
   "outputs": [
    {
     "name": "stdout",
     "output_type": "stream",
     "text": [
      "Iter 0: lamda = 4.99115708238600, f'(lamda) = 36891.6316517425\n",
      "Iter 1: lamda = 3.54572064460867, f'(lamda) = 11303.6963787363\n",
      "Iter 2: lamda = 2.51811563293591, f'(lamda) = 3416.67431318683\n",
      "Iter 3: lamda = 1.78998146931512, f'(lamda) = 1027.35349358113\n",
      "Iter 4: lamda = 1.29888004455172, f'(lamda) = 307.286479838638\n",
      "Iter 5: lamda = 0.961594794380957, f'(lamda) = 92.7042978713999\n",
      "Iter 6: lamda = 0.747037635672789, f'(lamda) = 27.0586994449973\n",
      "Iter 7: lamda = 0.639781828799076, f'(lamda) = 6.97156632223916\n",
      "Iter 8: lamda = 0.610617001444010, f'(lamda) = 1.24379701821054\n",
      "Iter 9: lamda = 0.608557038157505, f'(lamda) = 0.0770826451845785\n",
      "Iter 10: lamda = 0.608547134362916, f'(lamda) = 0.000367067603534998\n",
      "Iter 11: lamda = 0.608547134134860, f'(lamda) = 8.45212788647132E-9\n",
      "Iter 12: lamda = 0.608547134134950, f'(lamda) = -3.33066907387547E-12\n",
      "\n",
      "======================================================================\n",
      "CONVERGED: lamda* = 0.608547134134950\n",
      "Final point: [0.608547134134950]\n"
     ]
    }
   ],
   "source": [
    "f = x**sin(x) + cos(x**2) + x**3 - 7*x**1.5 + 9*x**4.5\n",
    "lamda = [7.0]\n",
    "epsilon = 0.0000000001\n",
    "step_size = 0.0001  \n",
    "result = quasi_newton_method(f, lamda, step_size, epsilon)\n",
    "print(\"Final point:\", result)"
   ]
  },
  {
   "cell_type": "code",
   "execution_count": null,
   "id": "ab06e888",
   "metadata": {},
   "outputs": [
    {
     "name": "stdout",
     "output_type": "stream",
     "text": [
      "Iter 0: lamda = 3.09743303831865, f'(lamda) = 76.2666066422995\n",
      "Iter 1: lamda = 1.96517167482518, f'(lamda) = 26.4424539190848\n",
      "Iter 2: lamda = 1.38317304212835, f'(lamda) = 6.00284908407289\n",
      "Iter 3: lamda = 0.766339246524186, f'(lamda) = 3.11315045845273\n",
      "Iter 4: lamda = 0.853256786813623, f'(lamda) = -277.148794045072\n",
      "Iter 5: lamda = 0.945438316787515, f'(lamda) = -105.332161520076\n",
      "Iter 6: lamda = 1.03729479715051, f'(lamda) = -38.9614970099057\n",
      "Iter 7: lamda = 1.11775110873096, f'(lamda) = -13.5969844891815\n",
      "Iter 8: lamda = 1.17139600618698, f'(lamda) = -4.16024624068623\n",
      "Iter 9: lamda = 1.19121258494399, f'(lamda) = -0.914004077963604\n",
      "Iter 10: lamda = 1.19340170893380, f'(lamda) = -0.0831476210141346\n",
      "Iter 11: lamda = 1.19342563371794, f'(lamda) = -0.000889328028108594\n",
      "Iter 12: lamda = 1.19342563635587, f'(lamda) = -9.80335812528210E-8\n",
      "Iter 13: lamda = 1.19342563635580, f'(lamda) = 2.66453525910038E-12\n",
      "\n",
      "======================================================================\n",
      "CONVERGED: lamda* = 1.19342563635580\n",
      "Final point: [1.19342563635580]\n"
     ]
    }
   ],
   "source": [
    "f = x**sin(x) + cos(x**cos(x)) + x**3 + 4*(x**(-7.5)) + 10*(x**(cos(x)))\n",
    "lamda = [4.625]\n",
    "epsilon = 1e-10\n",
    "step_size = 0.001 \n",
    "result = quasi_newton_method(f, lamda, step_size, epsilon)\n",
    "print(\"Final point:\", result)"
   ]
  },
  {
   "cell_type": "code",
   "execution_count": null,
   "id": "f89dd196",
   "metadata": {},
   "outputs": [
    {
     "name": "stdout",
     "output_type": "stream",
     "text": [
      "Iter 0: lamda = 5.69967865800426, f'(lamda) = -7.45491133962994\n",
      "Iter 1: lamda = 3.60304955413410, f'(lamda) = 15.7447137586653\n",
      "Iter 2: lamda = 4.49385462937631, f'(lamda) = -5.74794698492598\n",
      "Iter 3: lamda = 4.25412667493357, f'(lamda) = 2.81971895920519\n",
      "Iter 4: lamda = 4.24643624493536, f'(lamda) = 0.0843503677847579\n",
      "Iter 5: lamda = 4.24642421763522, f'(lamda) = 0.000131505760947448\n",
      "Iter 6: lamda = 4.24642421760480, f'(lamda) = 3.32622818177697E-10\n",
      "Iter 7: lamda = 4.24642421760464, f'(lamda) = 1.77635683940025E-12\n",
      "Iter 8: lamda = 4.24642421760464, f'(lamda) = 0\n",
      "\n",
      "======================================================================\n",
      "CONVERGED: lamda* = 4.24642421760464\n",
      "Final point: [4.24642421760464]\n"
     ]
    }
   ],
   "source": [
    "f = (x-2)**2 + 10*sin(x) \n",
    "lamda = [3.24555]\n",
    "epsilon = 1e-12\n",
    "step_size = 0.001  \n",
    "result = quasi_newton_method(f, lamda, step_size, epsilon)\n",
    "print(\"Final point:\", result)"
   ]
  }
 ],
 "metadata": {
  "kernelspec": {
   "display_name": "Python 3",
   "language": "python",
   "name": "python3"
  },
  "language_info": {
   "codemirror_mode": {
    "name": "ipython",
    "version": 3
   },
   "file_extension": ".py",
   "mimetype": "text/x-python",
   "name": "python",
   "nbconvert_exporter": "python",
   "pygments_lexer": "ipython3",
   "version": "3.13.2"
  }
 },
 "nbformat": 4,
 "nbformat_minor": 5
}
