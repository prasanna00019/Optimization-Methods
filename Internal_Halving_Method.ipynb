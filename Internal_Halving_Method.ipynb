{
 "cells": [
  {
   "cell_type": "code",
   "execution_count": 1,
   "id": "d25c2736",
   "metadata": {},
   "outputs": [],
   "source": [
    "import numpy as np\n",
    "import math\n",
    "def min_n(acc):\n",
    "  n=2 * np.log2(100/acc)-1\n",
    "  # print(math.ceil(n))\n",
    "  if(math.ceil(n) % 2 == 0):\n",
    "    return 1 + math.ceil(n)\n",
    "  return math.ceil(n)  "
   ]
  },
  {
   "cell_type": "code",
   "execution_count": 2,
   "id": "bc610789",
   "metadata": {},
   "outputs": [],
   "source": [
    "def eval_fun(x):\n",
    "  return x*(x-1.5)"
   ]
  },
  {
   "cell_type": "code",
   "execution_count": 3,
   "id": "3e4c6ee2",
   "metadata": {},
   "outputs": [
    {
     "name": "stdout",
     "output_type": "stream",
     "text": [
      "0.6875 0.75 0.8125\n",
      "0.75\n",
      "-0.5625\n"
     ]
    }
   ],
   "source": [
    "def internal_halving_method(a,b,acc,func):\n",
    "  n=min_n(acc)\n",
    "  L0=abs(b-a)\n",
    "  x0 =(a+b)/2\n",
    "  x1=a + L0/4\n",
    "  x2=b - L0/4\n",
    "  f_x0= func(x0)\n",
    "  f_x1 = func(x1)\n",
    "  f_x2 = func(x2)\n",
    "  a_dash = a\n",
    "  b_dash = b\n",
    "  x0_dash = x0\n",
    "  x1_dash = x1\n",
    "  x2_dash = x2\n",
    "  if(f_x2 > f_x0 > f_x1):\n",
    "    b_dash = x0_dash\n",
    "    x0_dash = x1_dash\n",
    "  elif(f_x1 > f_x0 > f_x2):\n",
    "    a_dash = x0_dash\n",
    "    x0_dash = x2_dash\n",
    "  elif(f_x1 > f_x0 and f_x2 > f_x0):\n",
    "    a_dash = x1_dash\n",
    "    b_dash = x2_dash\n",
    "  for i in range(int((n-3)/2)):\n",
    "    L_i = (b_dash - a_dash)\n",
    "    x1_dash = a_dash + L_i /4\n",
    "    x2_dash = b_dash - L_i /4\n",
    "    x0_dash = (a_dash + b_dash) / 2\n",
    "    f_x0_dash = func(x0_dash)\n",
    "    f_x1_dash = func(x1_dash)\n",
    "    f_x2_dash = func(x2_dash)\n",
    "    if(f_x2_dash > f_x0_dash > f_x1_dash):\n",
    "      b_dash = x0_dash\n",
    "      x0_dash = x1_dash\n",
    "    elif(f_x1_dash > f_x0_dash > f_x2_dash):\n",
    "      a_dash = x0_dash\n",
    "      x0_dash = x2_dash\n",
    "    elif(f_x1_dash > f_x0_dash and f_x2_dash> f_x0_dash):\n",
    "      a_dash = x1_dash\n",
    "      b_dash = x2_dash  \n",
    "\n",
    "  print(x1_dash,x0_dash,x2_dash)\n",
    "  print((x1_dash+x2_dash)/2)\n",
    "  print(eval_fun((x1_dash+x2_dash)/2))\n",
    "internal_halving_method(0,1,10,eval_fun)  "
   ]
  }
 ],
 "metadata": {
  "kernelspec": {
   "display_name": "Python 3",
   "language": "python",
   "name": "python3"
  },
  "language_info": {
   "codemirror_mode": {
    "name": "ipython",
    "version": 3
   },
   "file_extension": ".py",
   "mimetype": "text/x-python",
   "name": "python",
   "nbconvert_exporter": "python",
   "pygments_lexer": "ipython3",
   "version": "3.13.2"
  }
 },
 "nbformat": 4,
 "nbformat_minor": 5
}
